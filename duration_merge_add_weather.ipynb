{
 "cells": [
  {
   "cell_type": "code",
   "execution_count": 2,
   "metadata": {},
   "outputs": [
    {
     "name": "stdout",
     "output_type": "stream",
     "text": [
      "merging  cleaned201706.csv\n",
      "merging  cleaned201707.csv\n",
      "merging  cleaned201708.csv\n",
      "duration data merge complete\n"
     ]
    }
   ],
   "source": [
    "#This script prepares training and test data for trip duration prediction.\n",
    "#It reads in and merges cleaned citi bike trip data from each month together, and add\n",
    "#weather information to each date. \n",
    "\n",
    "import pandas as pd\n",
    "import numpy as np\n",
    "import psycopg2\n",
    "\n",
    "#This function extracts date and time from timestamp object. \n",
    "def extract_date_time(input):\n",
    "    dt = input.date()\n",
    "    date = f\"{dt:%Y-%m-%d}\"\n",
    "    time = input.hour\n",
    "    return date,time\n",
    "\n",
    "#This function retrieves hourly weather information from PostgreSQL database and extracts date and time bucket.\n",
    "def weather_history():\n",
    "    conn = psycopg2.connect(dbname='nycweather',user='postgres',password='Qzn651213')\n",
    "    raw = pd.read_sql(\"SELECT time,precipintensity,temperature FROM weather_newyork;\", conn)\n",
    "    raw['Date'], raw['Start_Time'] = zip(*raw['time'].map(extract_date_time))\n",
    "    raw = raw.drop(columns=['time'])\n",
    "    return raw\n",
    "\n",
    "#This function reads cleaned data with relevant columns.\n",
    "def read_cleaned(filename):\n",
    "    raw = pd.read_csv(filename,usecols=[1,2,4,5,8,9,10,11])\n",
    "    return raw\n",
    "\n",
    "def add_weather_save(database,save_filename):\n",
    "    global history \n",
    "    raw = database\n",
    "    \n",
    "    #associate weather data to date and time\n",
    "    cols = ['Start_Time', 'Date']\n",
    "    raw = raw.join(history.set_index(cols), on=cols)\n",
    "    \n",
    "    #drop unnecessary columns and rename columns. \n",
    "    raw = raw.drop(columns=['Date'])\n",
    "    raw = raw.rename(columns={'precipintensity': 'Precipitation', 'temperature': 'Temperature'})\n",
    "    \n",
    "    #save final data for training and evaluation\n",
    "    raw.to_csv(save_filename,index=False)\n",
    "\n",
    "    \n",
    "if __name__ == '__main__':\n",
    "    \n",
    "    #retrieve weather history as pandas dataframe    \n",
    "    history = weather_history()\n",
    "    \n",
    "    #database column name \n",
    "    database_name = ['Trip_Duration','Start_Time','Start_Station_Latitude','Start_Station_Longitude','Birth_Year','Gender','Holiday','Date']\n",
    "    \n",
    "    training_date = ['201706','201707','201708']\n",
    "    training_database = pd.DataFrame(columns=database_name)\n",
    "    \n",
    "    #create training database\n",
    "    for i in range(len(training_date)):\n",
    "        \n",
    "        filename = 'cleaned'+training_date[i]+'.csv'\n",
    "        print('merging ',filename)\n",
    "        \n",
    "        #read in monthly data\n",
    "        to_add = read_cleaned(filename)\n",
    "        \n",
    "        #merge the rides in each month\n",
    "        training_database = pd.concat([training_database,to_add])\n",
    "        \n",
    "    #Add weather data and save.\n",
    "    add_weather_save(training_database,'duration_prediction_data.csv')\n",
    "    print('duration data merge complete')   \n",
    "    \n",
    "    \n",
    "   \n",
    "    \n",
    "    \n",
    "    \n",
    "   \n",
    "    \n"
   ]
  },
  {
   "cell_type": "code",
   "execution_count": null,
   "metadata": {},
   "outputs": [],
   "source": []
  }
 ],
 "metadata": {
  "kernelspec": {
   "display_name": "Python 3",
   "language": "python",
   "name": "python3"
  },
  "language_info": {
   "codemirror_mode": {
    "name": "ipython",
    "version": 3
   },
   "file_extension": ".py",
   "mimetype": "text/x-python",
   "name": "python",
   "nbconvert_exporter": "python",
   "pygments_lexer": "ipython3",
   "version": "3.6.3"
  }
 },
 "nbformat": 4,
 "nbformat_minor": 2
}
