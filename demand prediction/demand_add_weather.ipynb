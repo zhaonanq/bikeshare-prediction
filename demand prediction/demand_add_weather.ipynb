{
 "cells": [
  {
   "cell_type": "code",
   "execution_count": 2,
   "metadata": {},
   "outputs": [],
   "source": [
    "#This script reads in cleaned and merged data and attaches weather information, stored in PostgreSQL database,\n",
    "#to each date and time.\n",
    "#It saves the final data in csv files to be used in the demand_prediction.ipynb file.\n",
    "\n",
    "import pandas as pd\n",
    "import numpy as np\n",
    "import psycopg2\n",
    "\n",
    "#This function extracts date and time from timestamp object. \n",
    "def extract_date_time(input):\n",
    "    dt = input.date()\n",
    "    date = f\"{dt:%Y-%m-%d}\"\n",
    "    time = input.hour\n",
    "    return date,time\n",
    "\n",
    "#This function retrieves hourly weather information from PostgreSQL database and extracts date and time bucket.\n",
    "def weather_history():\n",
    "    conn = psycopg2.connect(dbname=DBNAME,user=USER,password=PASSWORD)\n",
    "    raw = pd.read_sql(\"SELECT time,precipintensity,temperature FROM weather_newyork;\", conn)\n",
    "    raw['Date'], raw['Start_Time'] = zip(*raw['time'].map(extract_date_time))\n",
    "    raw = raw.drop(columns=['time'])\n",
    "    return raw\n",
    "\n",
    "#This function reads merged station-level ride data, select relevant rows according to\n",
    "#desired criteria, and add weather data. \n",
    "def final_processing(read_filename,save_filename):\n",
    "    global history\n",
    "    raw = pd.read_csv(read_filename)\n",
    "    \n",
    "    #select workdays\n",
    "    #raw = raw[raw['Holiday']<1]\n",
    "    \n",
    "    #select rows during peak hours: 6-10 am \n",
    "    #raw = raw[(raw['Start_Time']<21)&(raw['Start_Time']>12)]\n",
    "    \n",
    "    #delete rows with less than 10 rides\n",
    "    #raw = raw[raw['Count'] > 10] \n",
    "    \n",
    "    #associate weather with date\n",
    "    cols = ['Start_Time', 'Date']\n",
    "    raw = raw.join(history.set_index(cols), on=cols)\n",
    "    \n",
    "    #raw = raw.drop(columns=['Holiday'])\n",
    "    \n",
    "    #drop unnecessary columns and rename columns. \n",
    "    raw = raw.drop(columns=['Date','Start_Station_Name'])\n",
    "    raw = raw.rename(columns={'precipintensity': 'Precipitation', 'temperature': 'Temperature'})\n",
    "    raw.to_csv(save_filename,index=False)\n",
    "    \n",
    "if __name__ == '__main__':\n",
    "    \n",
    "    #retrieve weather history as pandas dataframe    \n",
    "    history = weather_history()\n",
    "                                      \n",
    "    #generate final data \n",
    "    final_processing('demand_merged_data.csv','demand_prediction_data.csv')\n",
    "    "
   ]
  },
  {
   "cell_type": "code",
   "execution_count": null,
   "metadata": {},
   "outputs": [],
   "source": []
  }
 ],
 "metadata": {
  "kernelspec": {
   "display_name": "Python 3",
   "language": "python",
   "name": "python3"
  },
  "language_info": {
   "codemirror_mode": {
    "name": "ipython",
    "version": 3
   },
   "file_extension": ".py",
   "mimetype": "text/x-python",
   "name": "python",
   "nbconvert_exporter": "python",
   "pygments_lexer": "ipython3",
   "version": "3.6.3"
  }
 },
 "nbformat": 4,
 "nbformat_minor": 2
}
